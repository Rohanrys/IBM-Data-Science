{
 "cells": [
  {
   "cell_type": "markdown",
   "id": "97e5a82d",
   "metadata": {},
   "source": [
    "# Data Science Tools and Ecosystem"
   ]
  },
  {
   "cell_type": "markdown",
   "id": "284669c0",
   "metadata": {},
   "source": [
    "This notebook contains the assignments with respect to the capstone project for the Tools for Data science course provided by IBM via Coursera."
   ]
  },
  {
   "cell_type": "markdown",
   "id": "54c2851a",
   "metadata": {},
   "source": [
    "### List of data science Langugages:\n",
    "\n",
    "There are several languages available for Data science, some of them are:\n",
    "\n",
    "1) Python\n",
    "\n",
    "2) SQL\n",
    "\n",
    "3) R\n",
    "\n",
    "4) MATLAB\n",
    "\n"
   ]
  },
  {
   "cell_type": "markdown",
   "id": "f1f208fb",
   "metadata": {},
   "source": [
    "### List of Data Science Libraries:  \n",
    "\n",
    "Some of the libraries for data science are:\n",
    "\n",
    "1) Scikit-learn\n",
    "\n",
    "2) Tensorflow\n",
    "\n",
    "3) Keras\n",
    "\n",
    "4) Pytorch\n",
    "\n",
    "5) Matplotlib\n",
    "\n",
    "\n",
    "\n"
   ]
  },
  {
   "cell_type": "markdown",
   "id": "7bd2d7fe",
   "metadata": {},
   "source": [
    "### Tools for Data Science\n",
    "\n",
    "\n",
    "| Task | Tools |\n",
    "| --- | --- |\n",
    "| Data Management | MYSQL, CouchDB, hadoop, cassandra, ceph |\n",
    "| Data integration | apache airflow, kubeflow, apache kafka, apache nifi, spark sql, node-red|\n",
    "| Data visualization | PixieDust,hue,kibana,apache superset| \n",
    "| Model Deployment | PredictionIO, Seldon,mleap, tensorflow serving |\n",
    "| Model monitoring and assessment | ModelDB, Prometheus |\n",
    "| Code asset management | Github, Gitlab and bitbucket| \n",
    "| Data asset management | Apache Atlast, ODPi EGERIA and kylo |\n",
    "| Model Building | SPSS Modeler, and SAS enterprise miner |\n",
    "| Commercial data integration tools|  Informatica Cloud Data Integration and IBM’s Data Refinery|\n",
    "| Cloud-based data visualization tools | Datameer and IBM’s Cognos Business Intelligence Suite |"
   ]
  },
  {
   "cell_type": "markdown",
   "id": "7e078d2e",
   "metadata": {},
   "source": [
    "### Arithmetic Expressions\n",
    "\n",
    "An arithmetic expression is an expression in code that consists of a numeric value. For example :3+5, 5*15 etc"
   ]
  },
  {
   "cell_type": "code",
   "execution_count": 5,
   "id": "06c0605c",
   "metadata": {},
   "outputs": [
    {
     "name": "stdout",
     "output_type": "stream",
     "text": [
      "Enter the first number 5\n",
      "Enter the second number 12\n",
      "Their sum is 17.0\n",
      "Their multiplication is 60.0\n"
     ]
    }
   ],
   "source": [
    "#Adding and multiplying two user provided numbers\n",
    "val1=float(input(\"Enter the first number \"))\n",
    "val2=float(input(\"Enter the second number \"))\n",
    "print(f\"Their sum is {val1+val2}\")\n",
    "print(f\"Their multiplication is {val1*val2}\")\n"
   ]
  },
  {
   "cell_type": "code",
   "execution_count": 6,
   "id": "7c2a2837",
   "metadata": {},
   "outputs": [
    {
     "name": "stdout",
     "output_type": "stream",
     "text": [
      "Enter the number of minutes123\n",
      "The number of hours is 2.05\n"
     ]
    }
   ],
   "source": [
    "#Convert minutes to hours by dividing by 60\n",
    "minutes=float(input(\"Enter the number of minutes\"))\n",
    "print(f\"The number of hours is {minutes/60}\")"
   ]
  },
  {
   "cell_type": "markdown",
   "id": "9b0ca32f",
   "metadata": {},
   "source": [
    "### OBJECTIVES \n",
    "The objectives of this notebook are:\n",
    "\n",
    "1) Get familiar with jupyter notebook\n",
    "\n",
    "2) Get familiar with the types of cells jupyter notebook supports such as markdown and code cells\n",
    "\n",
    "3) Get familair with different sets of Data Science Tasks and tools for performing those tasks"
   ]
  },
  {
   "cell_type": "markdown",
   "id": "8062aa04",
   "metadata": {},
   "source": [
    "## AUTHOR NAME: ROHAN SHRESTHA"
   ]
  },
  {
   "cell_type": "code",
   "execution_count": null,
   "id": "fb1b6b6f",
   "metadata": {},
   "outputs": [],
   "source": []
  }
 ],
 "metadata": {
  "kernelspec": {
   "display_name": "Python 3",
   "language": "python",
   "name": "python3"
  },
  "language_info": {
   "codemirror_mode": {
    "name": "ipython",
    "version": 3
   },
   "file_extension": ".py",
   "mimetype": "text/x-python",
   "name": "python",
   "nbconvert_exporter": "python",
   "pygments_lexer": "ipython3",
   "version": "3.8.8"
  }
 },
 "nbformat": 4,
 "nbformat_minor": 5
}
